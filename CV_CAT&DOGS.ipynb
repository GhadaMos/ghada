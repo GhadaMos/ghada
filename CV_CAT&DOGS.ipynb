{
  "nbformat": 4,
  "nbformat_minor": 0,
  "metadata": {
    "colab": {
      "name": "CV CAT&DOGS.ipynb",
      "provenance": [],
      "collapsed_sections": [],
      "authorship_tag": "ABX9TyO08RM/BFn5k1to2E37KRMG",
      "include_colab_link": true
    },
    "kernelspec": {
      "name": "python3",
      "display_name": "Python 3"
    },
    "language_info": {
      "name": "python"
    }
  },
  "cells": [
    {
      "cell_type": "markdown",
      "metadata": {
        "id": "view-in-github",
        "colab_type": "text"
      },
      "source": [
        "<a href=\"https://colab.research.google.com/github/GhadaMos/ghada/blob/main/CV_CAT%26DOGS.ipynb\" target=\"_parent\"><img src=\"https://colab.research.google.com/assets/colab-badge.svg\" alt=\"Open In Colab\"/></a>"
      ]
    },
    {
      "cell_type": "code",
      "metadata": {
        "id": "WRdsDJubZdG_"
      },
      "source": [
        "import numpy as np\n",
        "import pandas as pd\n",
        "import matplotlib.pyplot as plt\n",
        "import tensorflow as tf\n",
        "import os \n",
        "import zipfile\n",
        "from tqdm import tqdm\n",
        "from glob import glob\n",
        "from shutil import copy, move"
      ],
      "execution_count": 1,
      "outputs": []
    },
    {
      "cell_type": "code",
      "metadata": {
        "id": "z0jQuWz4frRT"
      },
      "source": [
        "train_dir = zipfile.ZipFile('../train.zip', 'r')\n",
        "train_dir.extractall()\n",
        "test_dir = zipfile.ZipFile('../test1.zip', 'r')\n",
        "test_dir.extractall()\n"
      ],
      "execution_count": 14,
      "outputs": []
    },
    {
      "cell_type": "code",
      "metadata": {
        "id": "fsgETzhchR0h"
      },
      "source": [
        "TRAIN_DIR = './train'\n",
        "TEST_DIR = './test1'\n",
        "\n",
        "train_set = os.listdir(TRAIN_DIR)\n",
        "test_set = os.listdir(TEST_DIR)\n",
        "\n",
        "print('#train images: %s'%len(train_set))\n",
        "print('#test images: %s'%len(test_set))\n",
        "print(train_set[:5])\n",
        "print(test_set[:5])"
      ],
      "execution_count": null,
      "outputs": []
    },
    {
      "cell_type": "code",
      "metadata": {
        "id": "vkKO9brRhYBP"
      },
      "source": [
        "dog_train_dir = './training/dog'\n",
        "dog_val_dir = './validation/dog'\n",
        "cat_train_dir = './training/cat'\n",
        "cat_val_dir = './validation/cat'\n",
        "\n",
        "file_dirs = [dog_train_dir, dog_val_dir, cat_train_dir, cat_val_dir]\n",
        "\n",
        "for dir in file_dirs:\n",
        "    os.makedirs(dir,exist_ok = True)"
      ],
      "execution_count": null,
      "outputs": []
    },
    {
      "cell_type": "code",
      "metadata": {
        "id": "OtYRKDAjhm43"
      },
      "source": [
        "all_dogs = glob('./train/dog*jpg')\n",
        "all_cats = glob('./train/cat*jpg')\n",
        "\n",
        "print(len(all_dogs))\n",
        "print(len(all_cats))"
      ],
      "execution_count": null,
      "outputs": []
    },
    {
      "cell_type": "code",
      "metadata": {
        "id": "Z3MYv2efhpjc"
      },
      "source": [
        "rom sklearn.model_selection import train_test_split\n",
        "\n",
        "dogs_train, dogs_test = train_test_split(all_dogs, test_size=0.1, shuffle=True,random_state = 100)\n",
        "cats_train, cats_test = train_test_split(all_cats, test_size=0.1, shuffle=True,random_state = 100)"
      ],
      "execution_count": null,
      "outputs": []
    },
    {
      "cell_type": "code",
      "metadata": {
        "id": "7rixnaIQhty2"
      },
      "source": [
        "for name in tqdm(dogs_train):\n",
        "  copy(name , os.path.join(dog_train_dir , name.split('/')[-1]))\n",
        "for name in tqdm(cats_train):\n",
        "  copy(name , os.path.join(cat_train_dir , name.split('/')[-1]))\n",
        "  \n",
        "for name in tqdm(dogs_test):\n",
        "  copy(name , os.path.join(dog_val_dir , name.split('/')[-1]))\n",
        "for name in tqdm(cats_test):\n",
        "  copy(name , os.path.join(cat_val_dir , name.split('/')[-1]))"
      ],
      "execution_count": null,
      "outputs": []
    },
    {
      "cell_type": "code",
      "metadata": {
        "id": "jvISegH3h87K"
      },
      "source": [
        "print(len(os.listdir(dog_train_dir)))\n",
        "print(len(os.listdir(cat_train_dir)))\n",
        "print(len(os.listdir(dog_val_dir)))\n",
        "print(len(os.listdir(cat_val_dir)))"
      ],
      "execution_count": null,
      "outputs": []
    },
    {
      "cell_type": "code",
      "metadata": {
        "id": "qkchMy4YiAzD"
      },
      "source": [
        "from tensorflow.keras.preprocessing.image import ImageDataGenerator\n",
        "\n",
        "TRAINING_DIR = './training'\n",
        "train_datagen = ImageDataGenerator(rescale=1 / 255)\n",
        "train_generator = train_datagen.flow_from_directory(\n",
        "    TRAINING_DIR,\n",
        "    batch_size=64,\n",
        "    class_mode='binary',\n",
        "    target_size=(150, 150)\n",
        ")\n",
        "\n",
        "VALIDATION_DIR = './validation'\n",
        "validation_datagen = ImageDataGenerator(rescale=1/255)\n",
        "validation_generator = validation_datagen.flow_from_directory(\n",
        "    VALIDATION_DIR,\n",
        "    batch_size = 64,\n",
        "    class_mode = 'binary',\n",
        "    target_size = (150, 150)\n",
        ")"
      ],
      "execution_count": null,
      "outputs": []
    },
    {
      "cell_type": "code",
      "metadata": {
        "id": "e0a23DMCiK63"
      },
      "source": [
        "from tensorflow.keras.models import Sequential\n",
        "from tensorflow.keras.layers import Conv2D, Dense, MaxPool2D, Flatten, Dropout\n",
        "model = Sequential()\n",
        "model.add(Conv2D(64, (3,3), strides=(1,1), padding='same', activation='relu',kernel_initializer='he_normal',input_shape=(150, 150, 3)))\n",
        "model.add(Conv2D(64, (3,3), strides=(1,1), padding='same', activation='relu',kernel_initializer='he_normal'))\n",
        "model.add(MaxPool2D((2,2)))\n",
        "model.add(Dropout(0.4))\n",
        "\n",
        "model.add(Conv2D(128, (3,3), strides=(1,1), padding='same', activation='relu',kernel_initializer='he_normal'))\n",
        "model.add(Conv2D(128, (3,3), strides=(1,1), padding='same', activation='relu',kernel_initializer='he_normal'))\n",
        "model.add(Conv2D(128, (3,3), strides=(1,1), padding='same', activation='relu',kernel_initializer='he_normal'))\n",
        "model.add(MaxPool2D((2,2)))\n",
        "model.add(Dropout(0.4))\n",
        "\n",
        "model.add(Conv2D(256, (3,3), strides=(1,1), padding='same', activation='relu',kernel_initializer='he_normal'))\n",
        "model.add(Dropout(0.4))\n",
        "model.add(Conv2D(256, (3,3), strides=(1,1), padding='same', activation='relu',kernel_initializer='he_normal'))\n",
        "model.add(Dropout(0.4))\n",
        "model.add(Conv2D(256, (3,3), strides=(1,1), padding='same', activation='relu',kernel_initializer='he_normal'))\n",
        "model.add(MaxPool2D((2,2)))\n",
        "model.add(Dropout(0.4))\n",
        "\n",
        "model.add(Conv2D(512, (3,3), strides=(1,1), padding='same', activation='relu',kernel_initializer='he_normal'))\n",
        "model.add(Dropout(0.4))\n",
        "model.add(Conv2D(512, (3,3), strides=(1,1), padding='same', activation='relu',kernel_initializer='he_normal'))\n",
        "model.add(Dropout(0.4))\n",
        "model.add(Conv2D(512, (3,3), strides=(1,1), padding='same', activation='relu',kernel_initializer='he_normal'))\n",
        "model.add(MaxPool2D((2,2)))\n",
        "model.add(Dropout(0.4))\n",
        "\n",
        "model.add(Flatten())\n",
        "model.add(Dense(units=1024, activation='relu'))\n",
        "model.add(Dropout(0.4))\n",
        "model.add(Dense(units=1024, activation='relu'))\n",
        "model.add(Dropout(0.4))\n",
        "model.add(Dense(units=1024, activation='relu'))\n",
        "model.add(Dropout(0.4))\n",
        "model.add(Dense(units=1, activation='sigmoid'))"
      ],
      "execution_count": null,
      "outputs": []
    },
    {
      "cell_type": "code",
      "metadata": {
        "id": "cCsCWvuci1Cg"
      },
      "source": [
        "model.summary() "
      ],
      "execution_count": null,
      "outputs": []
    }
  ]
}