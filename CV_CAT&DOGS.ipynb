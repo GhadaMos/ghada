{
  "nbformat": 4,
  "nbformat_minor": 0,
  "metadata": {
    "colab": {
      "name": "CV CAT&DOGS.ipynb",
      "provenance": [],
      "collapsed_sections": [],
      "authorship_tag": "ABX9TyPfSgKci5RsR8ij1nl6kBOj",
      "include_colab_link": true
    },
    "kernelspec": {
      "name": "python3",
      "display_name": "Python 3"
    },
    "language_info": {
      "name": "python"
    }
  },
  "cells": [
    {
      "cell_type": "markdown",
      "metadata": {
        "id": "view-in-github",
        "colab_type": "text"
      },
      "source": [
        "<a href=\"https://colab.research.google.com/github/GhadaMos/ghada/blob/main/CV_CAT%26DOGS.ipynb\" target=\"_parent\"><img src=\"https://colab.research.google.com/assets/colab-badge.svg\" alt=\"Open In Colab\"/></a>"
      ]
    },
    {
      "cell_type": "code",
      "metadata": {
        "id": "WRdsDJubZdG_"
      },
      "source": [
        "import numpy as np\n",
        "import pandas as pd\n",
        "import matplotlib.pyplot as plt\n",
        "import tensorflow as tf\n",
        "import os \n",
        "import zipfile\n",
        "from tqdm import tqdm\n",
        "from glob import glob\n",
        "from shutil import copy, move"
      ],
      "execution_count": 1,
      "outputs": []
    },
    {
      "cell_type": "code",
      "metadata": {
        "id": "z0jQuWz4frRT"
      },
      "source": [
        "train_dir = zipfile.ZipFile('../train.zip', 'r')\n",
        "train_dir.extractall()\n",
        "test_dir = zipfile.ZipFile('../test1.zip', 'r')\n",
        "test_dir.extractall()\n"
      ],
      "execution_count": 14,
      "outputs": []
    },
    {
      "cell_type": "code",
      "metadata": {
        "colab": {
          "base_uri": "https://localhost:8080/"
        },
        "id": "fsgETzhchR0h",
        "outputId": "49e0b75c-a02b-4015-940d-6e7d387abb1d"
      },
      "source": [
        "TRAIN_DIR = './train'\n",
        "TEST_DIR = './test1'\n",
        "\n",
        "train_set = os.listdir(TRAIN_DIR)\n",
        "test_set = os.listdir(TEST_DIR)\n",
        "\n",
        "print('#train images: %s'%len(train_set))\n",
        "print('#test images: %s'%len(test_set))\n",
        "print(train_set[:5])\n",
        "print(test_set[:5])"
      ],
      "execution_count": 15,
      "outputs": [
        {
          "output_type": "stream",
          "name": "stdout",
          "text": [
            "#train images: 25000\n",
            "#test images: 12500\n",
            "['dog.10806.jpg', 'cat.1702.jpg', 'cat.6137.jpg', 'dog.5009.jpg', 'dog.8669.jpg']\n",
            "['7511.jpg', '10771.jpg', '6668.jpg', '7892.jpg', '556.jpg']\n"
          ]
        }
      ]
    },
    {
      "cell_type": "code",
      "metadata": {
        "id": "vkKO9brRhYBP"
      },
      "source": [
        "dog_train_dir = './training/dog'\n",
        "dog_val_dir = './validation/dog'\n",
        "cat_train_dir = './training/cat'\n",
        "cat_val_dir = './validation/cat'\n",
        "\n",
        "file_dirs = [dog_train_dir, dog_val_dir, cat_train_dir, cat_val_dir]\n",
        "\n",
        "for dir in file_dirs:\n",
        "    os.makedirs(dir,exist_ok = True)"
      ],
      "execution_count": 16,
      "outputs": []
    },
    {
      "cell_type": "code",
      "metadata": {
        "colab": {
          "base_uri": "https://localhost:8080/"
        },
        "id": "OtYRKDAjhm43",
        "outputId": "31695dac-17f1-4811-fc6b-0d0e09ab36e5"
      },
      "source": [
        "all_dogs = glob('./train/dog*jpg')\n",
        "all_cats = glob('./train/cat*jpg')\n",
        "\n",
        "print(len(all_dogs))\n",
        "print(len(all_cats))"
      ],
      "execution_count": 17,
      "outputs": [
        {
          "output_type": "stream",
          "name": "stdout",
          "text": [
            "12500\n",
            "12500\n"
          ]
        }
      ]
    },
    {
      "cell_type": "code",
      "metadata": {
        "id": "Z3MYv2efhpjc"
      },
      "source": [
        "from sklearn.model_selection import train_test_split\n",
        "\n",
        "dogs_train, dogs_test = train_test_split(all_dogs, test_size=0.1, shuffle=True,random_state = 100)\n",
        "cats_train, cats_test = train_test_split(all_cats, test_size=0.1, shuffle=True,random_state = 100)"
      ],
      "execution_count": 19,
      "outputs": []
    },
    {
      "cell_type": "code",
      "metadata": {
        "colab": {
          "base_uri": "https://localhost:8080/"
        },
        "id": "7rixnaIQhty2",
        "outputId": "d0698bc3-200b-4428-94e7-766717aa24e0"
      },
      "source": [
        "for name in tqdm(dogs_train):\n",
        "  copy(name , os.path.join(dog_train_dir , name.split('/')[-1]))\n",
        "for name in tqdm(cats_train):\n",
        "  copy(name , os.path.join(cat_train_dir , name.split('/')[-1]))\n",
        "  \n",
        "for name in tqdm(dogs_test):\n",
        "  copy(name , os.path.join(dog_val_dir , name.split('/')[-1]))\n",
        "for name in tqdm(cats_test):\n",
        "  copy(name , os.path.join(cat_val_dir , name.split('/')[-1]))"
      ],
      "execution_count": 20,
      "outputs": [
        {
          "output_type": "stream",
          "name": "stderr",
          "text": [
            "100%|██████████| 11250/11250 [00:04<00:00, 2654.32it/s]\n",
            "100%|██████████| 11250/11250 [00:07<00:00, 1536.24it/s]\n",
            "100%|██████████| 1250/1250 [00:01<00:00, 836.76it/s] \n",
            "100%|██████████| 1250/1250 [00:00<00:00, 1369.01it/s]\n"
          ]
        }
      ]
    },
    {
      "cell_type": "code",
      "metadata": {
        "colab": {
          "base_uri": "https://localhost:8080/"
        },
        "id": "jvISegH3h87K",
        "outputId": "6487ea28-436e-421c-cccf-20e339a9e89b"
      },
      "source": [
        "print(len(os.listdir(dog_train_dir)))\n",
        "print(len(os.listdir(cat_train_dir)))\n",
        "print(len(os.listdir(dog_val_dir)))\n",
        "print(len(os.listdir(cat_val_dir)))"
      ],
      "execution_count": 21,
      "outputs": [
        {
          "output_type": "stream",
          "name": "stdout",
          "text": [
            "11250\n",
            "11250\n",
            "1250\n",
            "1250\n"
          ]
        }
      ]
    },
    {
      "cell_type": "code",
      "metadata": {
        "colab": {
          "base_uri": "https://localhost:8080/"
        },
        "id": "qkchMy4YiAzD",
        "outputId": "ce455cf1-b451-40df-bbb5-18a5594dcab1"
      },
      "source": [
        "from tensorflow.keras.preprocessing.image import ImageDataGenerator\n",
        "\n",
        "TRAINING_DIR = './training'\n",
        "train_datagen = ImageDataGenerator(rescale=1 / 255)\n",
        "train_generator = train_datagen.flow_from_directory(\n",
        "    TRAINING_DIR,\n",
        "    batch_size=64,\n",
        "    class_mode='binary',\n",
        "    target_size=(150, 150)\n",
        ")\n",
        "\n",
        "VALIDATION_DIR = './validation'\n",
        "validation_datagen = ImageDataGenerator(rescale=1/255)\n",
        "validation_generator = validation_datagen.flow_from_directory(\n",
        "    VALIDATION_DIR,\n",
        "    batch_size = 64,\n",
        "    class_mode = 'binary',\n",
        "    target_size = (150, 150)\n",
        ")"
      ],
      "execution_count": 22,
      "outputs": [
        {
          "output_type": "stream",
          "name": "stdout",
          "text": [
            "Found 22500 images belonging to 2 classes.\n",
            "Found 2500 images belonging to 2 classes.\n"
          ]
        }
      ]
    },
    {
      "cell_type": "code",
      "metadata": {
        "id": "e0a23DMCiK63"
      },
      "source": [
        "from tensorflow.keras.models import Sequential\n",
        "from tensorflow.keras.layers import Conv2D, Dense, MaxPool2D, Flatten, Dropout\n",
        "model = Sequential()\n",
        "model.add(Conv2D(64, (3,3), strides=(1,1), padding='same', activation='relu',kernel_initializer='he_normal',input_shape=(150, 150, 3)))\n",
        "model.add(Conv2D(64, (3,3), strides=(1,1), padding='same', activation='relu',kernel_initializer='he_normal'))\n",
        "model.add(MaxPool2D((2,2)))\n",
        "model.add(Dropout(0.4))\n",
        "\n",
        "model.add(Conv2D(128, (3,3), strides=(1,1), padding='same', activation='relu',kernel_initializer='he_normal'))\n",
        "model.add(Conv2D(128, (3,3), strides=(1,1), padding='same', activation='relu',kernel_initializer='he_normal'))\n",
        "model.add(Conv2D(128, (3,3), strides=(1,1), padding='same', activation='relu',kernel_initializer='he_normal'))\n",
        "model.add(MaxPool2D((2,2)))\n",
        "model.add(Dropout(0.4))\n",
        "\n",
        "model.add(Conv2D(256, (3,3), strides=(1,1), padding='same', activation='relu',kernel_initializer='he_normal'))\n",
        "model.add(Dropout(0.4))\n",
        "model.add(Conv2D(256, (3,3), strides=(1,1), padding='same', activation='relu',kernel_initializer='he_normal'))\n",
        "model.add(Dropout(0.4))\n",
        "model.add(Conv2D(256, (3,3), strides=(1,1), padding='same', activation='relu',kernel_initializer='he_normal'))\n",
        "model.add(MaxPool2D((2,2)))\n",
        "model.add(Dropout(0.4))\n",
        "\n",
        "model.add(Conv2D(512, (3,3), strides=(1,1), padding='same', activation='relu',kernel_initializer='he_normal'))\n",
        "model.add(Dropout(0.4))\n",
        "model.add(Conv2D(512, (3,3), strides=(1,1), padding='same', activation='relu',kernel_initializer='he_normal'))\n",
        "model.add(Dropout(0.4))\n",
        "model.add(Conv2D(512, (3,3), strides=(1,1), padding='same', activation='relu',kernel_initializer='he_normal'))\n",
        "model.add(MaxPool2D((2,2)))\n",
        "model.add(Dropout(0.4))\n",
        "\n",
        "model.add(Flatten())\n",
        "model.add(Dense(units=1024, activation='relu'))\n",
        "model.add(Dropout(0.4))\n",
        "model.add(Dense(units=1024, activation='relu'))\n",
        "model.add(Dropout(0.4))\n",
        "model.add(Dense(units=1024, activation='relu'))\n",
        "model.add(Dropout(0.4))\n",
        "model.add(Dense(units=1, activation='sigmoid'))"
      ],
      "execution_count": 23,
      "outputs": []
    },
    {
      "cell_type": "code",
      "metadata": {
        "colab": {
          "base_uri": "https://localhost:8080/"
        },
        "id": "cCsCWvuci1Cg",
        "outputId": "3dbc28c1-d43b-422b-c239-05d905d41b7c"
      },
      "source": [
        "model.summary() "
      ],
      "execution_count": 24,
      "outputs": [
        {
          "output_type": "stream",
          "name": "stdout",
          "text": [
            "Model: \"sequential\"\n",
            "_________________________________________________________________\n",
            " Layer (type)                Output Shape              Param #   \n",
            "=================================================================\n",
            " conv2d (Conv2D)             (None, 150, 150, 64)      1792      \n",
            "                                                                 \n",
            " conv2d_1 (Conv2D)           (None, 150, 150, 64)      36928     \n",
            "                                                                 \n",
            " max_pooling2d (MaxPooling2D  (None, 75, 75, 64)       0         \n",
            " )                                                               \n",
            "                                                                 \n",
            " dropout (Dropout)           (None, 75, 75, 64)        0         \n",
            "                                                                 \n",
            " conv2d_2 (Conv2D)           (None, 75, 75, 128)       73856     \n",
            "                                                                 \n",
            " conv2d_3 (Conv2D)           (None, 75, 75, 128)       147584    \n",
            "                                                                 \n",
            " conv2d_4 (Conv2D)           (None, 75, 75, 128)       147584    \n",
            "                                                                 \n",
            " max_pooling2d_1 (MaxPooling  (None, 37, 37, 128)      0         \n",
            " 2D)                                                             \n",
            "                                                                 \n",
            " dropout_1 (Dropout)         (None, 37, 37, 128)       0         \n",
            "                                                                 \n",
            " conv2d_5 (Conv2D)           (None, 37, 37, 256)       295168    \n",
            "                                                                 \n",
            " dropout_2 (Dropout)         (None, 37, 37, 256)       0         \n",
            "                                                                 \n",
            " conv2d_6 (Conv2D)           (None, 37, 37, 256)       590080    \n",
            "                                                                 \n",
            " dropout_3 (Dropout)         (None, 37, 37, 256)       0         \n",
            "                                                                 \n",
            " conv2d_7 (Conv2D)           (None, 37, 37, 256)       590080    \n",
            "                                                                 \n",
            " max_pooling2d_2 (MaxPooling  (None, 18, 18, 256)      0         \n",
            " 2D)                                                             \n",
            "                                                                 \n",
            " dropout_4 (Dropout)         (None, 18, 18, 256)       0         \n",
            "                                                                 \n",
            " conv2d_8 (Conv2D)           (None, 18, 18, 512)       1180160   \n",
            "                                                                 \n",
            " dropout_5 (Dropout)         (None, 18, 18, 512)       0         \n",
            "                                                                 \n",
            " conv2d_9 (Conv2D)           (None, 18, 18, 512)       2359808   \n",
            "                                                                 \n",
            " dropout_6 (Dropout)         (None, 18, 18, 512)       0         \n",
            "                                                                 \n",
            " conv2d_10 (Conv2D)          (None, 18, 18, 512)       2359808   \n",
            "                                                                 \n",
            " max_pooling2d_3 (MaxPooling  (None, 9, 9, 512)        0         \n",
            " 2D)                                                             \n",
            "                                                                 \n",
            " dropout_7 (Dropout)         (None, 9, 9, 512)         0         \n",
            "                                                                 \n",
            " flatten (Flatten)           (None, 41472)             0         \n",
            "                                                                 \n",
            " dense (Dense)               (None, 1024)              42468352  \n",
            "                                                                 \n",
            " dropout_8 (Dropout)         (None, 1024)              0         \n",
            "                                                                 \n",
            " dense_1 (Dense)             (None, 1024)              1049600   \n",
            "                                                                 \n",
            " dropout_9 (Dropout)         (None, 1024)              0         \n",
            "                                                                 \n",
            " dense_2 (Dense)             (None, 1024)              1049600   \n",
            "                                                                 \n",
            " dropout_10 (Dropout)        (None, 1024)              0         \n",
            "                                                                 \n",
            " dense_3 (Dense)             (None, 1)                 1025      \n",
            "                                                                 \n",
            "=================================================================\n",
            "Total params: 52,351,425\n",
            "Trainable params: 52,351,425\n",
            "Non-trainable params: 0\n",
            "_________________________________________________________________\n"
          ]
        }
      ]
    }
  ]
}